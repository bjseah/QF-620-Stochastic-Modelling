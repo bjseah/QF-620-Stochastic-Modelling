{
 "cells": [
  {
   "cell_type": "code",
   "execution_count": 1,
   "id": "149fb0ce",
   "metadata": {},
   "outputs": [],
   "source": [
    "import pandas as pd\n",
    "import numpy as np"
   ]
  },
  {
   "cell_type": "markdown",
   "id": "5064a6df",
   "metadata": {},
   "source": [
    "# Black-Scholes Model"
   ]
  },
  {
   "cell_type": "code",
   "execution_count": 2,
   "id": "ef7fe318",
   "metadata": {},
   "outputs": [],
   "source": [
    "def BlackScholesCall(S, K, r, sigma, T):\n",
    "    d1 = (np.log(S/K)+(r+sigma**2/2)*T) / (sigma*np.sqrt(T))\n",
    "    d2 = d1 - sigma*np.sqrt(T)\n",
    "    return S*norm.cdf(d1) - K*np.exp(-r*T)*norm.cdf(d2)\n",
    "\n",
    "def BlackScholesPut(S, K, r, sigma, T):\n",
    "    d1 = (np.log(S/K)+(r+sigma**2/2)*T) / (sigma*np.sqrt(T))\n",
    "    d2 = d1 - sigma*np.sqrt(T)\n",
    "    return K*np.exp(-r*T)*norm.cdf(-d2) - S*norm.cdf(-d1)\n",
    "\n",
    "def BlackScholesDCashCall(S, K, r, sigma ,T):\n",
    "    d1 = (np.log(S/K)+(r+sigma**2/2)*T) / (sigma*np.sqrt(T))\n",
    "    d2 = d1 - sigma*np.sqrt(T)\n",
    "    return np.exp(-r*T)*norm.cdf(d2)\n",
    "\n",
    "def BlackScholesDCashPut(S, K, r, sigma ,T):\n",
    "    d1 = (np.log(S/K)+(r+sigma**2/2)*T) / (sigma*np.sqrt(T))\n",
    "    d2 = d1 - sigma*np.sqrt(T)\n",
    "    return np.exp(-r*T)*norm.cdf(-d2)\n",
    "\n",
    "def BlackScholesDAssetCall(S, K, r, sigma ,T):\n",
    "    d1 = (np.log(S/K)+(r+sigma**2/2)*T) / (sigma*np.sqrt(T))\n",
    "    d2 = d1 - sigma*np.sqrt(T)\n",
    "    return S*norm.cdf(d1)\n",
    "\n",
    "def BlackScholesDAssetPut(S, K, r, sigma ,T):\n",
    "    d1 = (np.log(S/K)+(r+sigma**2/2)*T) / (sigma*np.sqrt(T))\n",
    "    d2 = d1 - sigma*np.sqrt(T)\n",
    "    return S*norm.cdf(-d1)"
   ]
  },
  {
   "cell_type": "markdown",
   "id": "f0a4e3bd",
   "metadata": {},
   "source": [
    "# Bachelier Model"
   ]
  },
  {
   "cell_type": "code",
   "execution_count": 3,
   "id": "f71deb76",
   "metadata": {},
   "outputs": [],
   "source": [
    "def BachelierCall(S, K, r, sigma, T):\n",
    "    c = (S-K) / (sigma*S*np.sqrt(T))\n",
    "    return np.exp(-r*T)*((S-K)*norm.cdf(c) + sigma*S*np.sqrt(T)*norm.pdf(c))\n",
    "\n",
    "def BachelierPut(S, K, r, sigma, T):\n",
    "    c = (S-K) / (sigma*S*np.sqrt(T))\n",
    "    return np.exp(-r*T)*((K-S)*norm.cdf(-c) + sigma*S*np.sqrt(T)*norm.pdf(-c))   \n",
    "\n",
    "def BachelierDCashCall(S, K, r, sigma, T):\n",
    "    c = (S-K) / (sigma*S*np.sqrt(T))\n",
    "    return np.exp(-r*T)*norm.cdf(c)\n",
    "\n",
    "def BachelierDCashPut(S, K, r, sigma, T):\n",
    "    c = (S-K) / (sigma*S*np.sqrt(T))\n",
    "    return np.exp(-r*T)*norm.cdf(-c)\n",
    "\n",
    "def BachelierDAssetCall(S, K, r, sigma, T):\n",
    "    c = (S-K) / (sigma*S*np.sqrt(T))\n",
    "    return np.exp(-r*T)*(S*norm.cdf(c) + sigma*S*np.sqrt(T)*norm.pdf(c))\n",
    "\n",
    "def BachelierDAssetPut(S, K, r, sigma, T):\n",
    "    c = (S-K) / (sigma*S*np.sqrt(T))\n",
    "    return np.exp(-r*T)*(S*norm.cdf(-c) - sigma*S*np.sqrt(T)*norm.pdf(-c))"
   ]
  },
  {
   "cell_type": "markdown",
   "id": "6a7a389a",
   "metadata": {},
   "source": [
    "# Black76 Model"
   ]
  },
  {
   "cell_type": "code",
   "execution_count": 4,
   "id": "dd1daa56",
   "metadata": {},
   "outputs": [],
   "source": [
    "def Black76Call(S, K, r, sigma, T):\n",
    "    F = np.exp(r*T)*S\n",
    "    d1 = (np.log(F/K)+(sigma**2/2)*T) / (sigma*np.sqrt(T))\n",
    "    d2 = d1 - sigma*np.sqrt(T)\n",
    "    return np.exp(-r*T)*(F*norm.cdf(d1) - K*norm.cdf(d2))\n",
    "\n",
    "def Black76Put(S, K, r, sigma, T):\n",
    "    F= np.exp(r*T)*S\n",
    "    d1 = (np.log(F/K)+(sigma**2/2)*T) / (sigma*np.sqrt(T))\n",
    "    d2 = d1 - sigma*np.sqrt(T)\n",
    "    return np.exp(-r*T)*(K*norm.cdf(-d2) - F*norm.cdf(-d1))\n",
    "\n",
    "def Black76DCashCall(S, K, r, sigma, T):\n",
    "    F = np.exp(r*T)*S\n",
    "    d1 = (np.log(F/K)+(sigma**2/2)*T) / (sigma*np.sqrt(T))\n",
    "    d2 = d1 - sigma*np.sqrt(T)\n",
    "    return np.exp(-r*T)*norm.cdf(d2)\n",
    "\n",
    "def Black76DCashPut(S, K, r, sigma, T):\n",
    "    F = np.exp(r*T)*S\n",
    "    d1 = (np.log(F/K)+(sigma**2/2)*T) / (sigma*np.sqrt(T))\n",
    "    d2 = d1 - sigma*np.sqrt(T)\n",
    "    return np.exp(-r*T)*norm.cdf(-d2)\n",
    "\n",
    "def Black76DAssetCall(S, K, r, sigma, T):\n",
    "    F = np.exp(r*T)*S\n",
    "    d1 = (np.log(F/K)+(sigma**2/2)*T) / (sigma*np.sqrt(T))\n",
    "    d2 = d1 - sigma*np.sqrt(T)\n",
    "    return F*np.exp(-r*T)*norm.cdf(d1)\n",
    "\n",
    "def Black76DAssetPut(S, K, r, sigma, T):\n",
    "    F = np.exp(r*T)*S\n",
    "    d1 = (np.log(F/K)+(sigma**2/2)*T) / (sigma*np.sqrt(T))\n",
    "    d2 = d1 - sigma*np.sqrt(T)\n",
    "    return F*np.exp(-r*T)*norm.cdf(-d1)"
   ]
  },
  {
   "cell_type": "markdown",
   "id": "e0e9bd32",
   "metadata": {},
   "source": [
    "# Displaced Diffusion Model"
   ]
  },
  {
   "cell_type": "code",
   "execution_count": 5,
   "id": "44309c88",
   "metadata": {},
   "outputs": [],
   "source": [
    "def DisplacedDiffusionCall(S, K, r, sigma, T, beta):\n",
    "    F = np.exp(r*T)*S\n",
    "    c1 = (np.log(F/(F+beta*(K-F)))+(beta*sigma)**2/2*T) / (beta*sigma*np.sqrt(T))\n",
    "    c2 = c1 - beta*sigma*np.sqrt(T)\n",
    "    return np.exp(-r*T)*(F/beta*norm.cdf(c1) - ((1-beta)/beta*F + K)*norm.cdf(c2))\n",
    "\n",
    "def DisplacedDiffusionPut(S, K, r, sigma, T, beta):\n",
    "    F = np.exp(r*T)*S\n",
    "    c1 = (np.log(F/(F+beta*(K-F)))+(beta*sigma)**2/2*T) / (beta*sigma*np.sqrt(T))\n",
    "    c2 = c1 - beta*sigma*np.sqrt(T)\n",
    "    return np.exp(-r*T)*(((1-beta)/beta*F + K)*norm.cdf(-c2) - F/beta*norm.cdf(-c1))\n",
    "\n",
    "def DisplacedDiffusionDCashCall(S, K, r, sigma, T, beta):\n",
    "    F = np.exp(r*T)*S\n",
    "    c1 = (np.log(F/(F+beta*(K-F)))+(beta*sigma)**2/2*T) / (beta*sigma*np.sqrt(T))\n",
    "    c2 = c1 - beta*sigma*np.sqrt(T)\n",
    "    return np.exp(-r*T)*norm.cdf(c2)\n",
    "\n",
    "def DisplacedDiffusionDCashPut(S, K, r, sigma, T, beta):\n",
    "    F = np.exp(r*T)*S\n",
    "    c1 = (np.log(F/(F+beta*(K-F)))+(beta*sigma)**2/2*T) / (beta*sigma*np.sqrt(T))\n",
    "    c2 = c1 - beta*sigma*np.sqrt(T)\n",
    "    return np.exp(-r*T)*norm.cdf(-c2)\n",
    "\n",
    "def DisplacedDiffusionDAssetCall(S, K, r, sigma, T, beta):\n",
    "    F = np.exp(r*T)*S\n",
    "    c1 = (np.log(F/(F+beta*(K-F)))+(beta*sigma)**2/2*T) / (beta*sigma*np.sqrt(T))\n",
    "    c2 = c1 - beta*sigma*np.sqrt(T)\n",
    "    return np.exp(-r*T)*(F/beta*norm.cdf(c1) - ((1-beta)/beta*F)*norm.cdf(c2))\n",
    "\n",
    "def DisplacedDiffusionDAssetPut(S, K, r, sigma, T, beta):\n",
    "    F = np.exp(r*T)*S\n",
    "    c1 = (np.log(F/(F+beta*(K-F)))+(beta*sigma)**2/2*T) / (beta*sigma*np.sqrt(T))\n",
    "    c2 = c1 - beta*sigma*np.sqrt(T)\n",
    "    return np.exp(-r*T)*(F/beta*norm.cdf(-c1) - ((1-beta)/beta*F)*norm.cdf(-c2))"
   ]
  }
 ],
 "metadata": {
  "kernelspec": {
   "display_name": "Python 3 (ipykernel)",
   "language": "python",
   "name": "python3"
  },
  "language_info": {
   "codemirror_mode": {
    "name": "ipython",
    "version": 3
   },
   "file_extension": ".py",
   "mimetype": "text/x-python",
   "name": "python",
   "nbconvert_exporter": "python",
   "pygments_lexer": "ipython3",
   "version": "3.9.12"
  }
 },
 "nbformat": 4,
 "nbformat_minor": 5
}
